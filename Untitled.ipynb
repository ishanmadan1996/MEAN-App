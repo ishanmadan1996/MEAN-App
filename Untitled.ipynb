{
 "cells": [
  {
   "cell_type": "code",
   "execution_count": null,
   "metadata": {},
   "outputs": [
    {
     "name": "stdout",
     "output_type": "stream",
     "text": [
      "5\n",
      "5\n",
      "+...+\n",
      ".+.+.\n",
      "..+..\n",
      ".+.+.\n",
      "+...+\n",
      "End\n"
     ]
    }
   ],
   "source": [
    "def output(text):\n",
    "    lines = text.split(\"\\n\")\n",
    "    row = lines[0]\n",
    "    col = lines[1]\n",
    "str=\"\"\n",
    "while str!=\"End\":\n",
    "    text+= input()\n",
    "print(output(text))"
   ]
  },
  {
   "cell_type": "code",
   "execution_count": null,
   "metadata": {},
   "outputs": [],
   "source": []
  }
 ],
 "metadata": {
  "kernelspec": {
   "display_name": "Python 3",
   "language": "python",
   "name": "python3"
  },
  "language_info": {
   "codemirror_mode": {
    "name": "ipython",
    "version": 3
   },
   "file_extension": ".py",
   "mimetype": "text/x-python",
   "name": "python",
   "nbconvert_exporter": "python",
   "pygments_lexer": "ipython3",
   "version": "3.6.1"
  }
 },
 "nbformat": 4,
 "nbformat_minor": 2
}
