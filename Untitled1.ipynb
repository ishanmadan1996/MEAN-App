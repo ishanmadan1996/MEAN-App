{
 "cells": [
  {
   "cell_type": "code",
   "execution_count": 3,
   "metadata": {},
   "outputs": [
    {
     "name": "stdout",
     "output_type": "stream",
     "text": [
      "5\n",
      "5\n",
      "+...+\n",
      ".+.+.\n",
      "..+..\n",
      ".+.+.\n",
      "+...+\n",
      "+...+\n"
     ]
    }
   ],
   "source": [
    "def output(text):\n",
    "    \n",
    "    return text\n",
    "\n",
    "res = \"\"\n",
    "text = \"\"\n",
    "m = int(str(input()))\n",
    "n = str(input())\n",
    "for _ in range(m):\n",
    "    text = str(input())\n",
    "    res+=text\n",
    "\n",
    "print(output(text))"
   ]
  },
  {
   "cell_type": "code",
   "execution_count": null,
   "metadata": {},
   "outputs": [],
   "source": []
  }
 ],
 "metadata": {
  "kernelspec": {
   "display_name": "Python 3",
   "language": "python",
   "name": "python3"
  },
  "language_info": {
   "codemirror_mode": {
    "name": "ipython",
    "version": 3
   },
   "file_extension": ".py",
   "mimetype": "text/x-python",
   "name": "python",
   "nbconvert_exporter": "python",
   "pygments_lexer": "ipython3",
   "version": "3.6.1"
  }
 },
 "nbformat": 4,
 "nbformat_minor": 2
}
